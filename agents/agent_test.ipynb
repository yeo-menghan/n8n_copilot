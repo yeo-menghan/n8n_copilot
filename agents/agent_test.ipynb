{
 "cells": [
  {
   "cell_type": "markdown",
   "metadata": {},
   "source": [
    "# LangChain Agents\n",
    "Different layers \n",
    "- Understand node\n",
    "- Put together workflow\n",
    "- Generating workflow (using sliding window)\n",
    "- Validate workflow"
   ]
  },
  {
   "cell_type": "code",
   "execution_count": null,
   "metadata": {},
   "outputs": [],
   "source": []
  }
 ],
 "metadata": {
  "language_info": {
   "name": "python"
  }
 },
 "nbformat": 4,
 "nbformat_minor": 2
}
